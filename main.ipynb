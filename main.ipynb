{
 "cells": [
  {
   "cell_type": "code",
   "execution_count": 2,
   "source": [
    "requirements = \"\"\"\n",
    "Keras-Preprocessing == 1.1.2\n",
    "numpy == 1.19.5\n",
    "Pillow == 8.2.0\n",
    "scipy == 1.6.0\n",
    "tensorflow == 2.5.0\n",
    "tensorflow-hub == 0.11.0\n",
    "\"\"\"\n",
    "with open('requirements.txt', 'w') as file:\n",
    "  file.write(requirements)"
   ],
   "outputs": [],
   "metadata": {}
  },
  {
   "cell_type": "code",
   "execution_count": null,
   "source": [
    "!pip install -r requirements.txt"
   ],
   "outputs": [],
   "metadata": {}
  },
  {
   "cell_type": "code",
   "execution_count": null,
   "source": [
    "from mlforkids import MLforKidsImageProject\n",
    "\n",
    "# treat this key like a password and keep it secret!\n",
    "key = \"fef5e5e0-fcaa-11eb-a1f8-c9f8b05543a052dbe68f-36ef-42a9-968e-2b7aaf0cecb3\"\n",
    "\n",
    "# this will train your model and might take a little while\n",
    "myproject = MLforKidsImageProject(key)\n",
    "myproject.train_model()\n",
    "\n",
    "# CHANGE THIS to the image file you want to recognize\n",
    "demo = myproject.prediction(\"my-test-image.jpg\")\n",
    "\n",
    "label = demo[\"class_name\"]\n",
    "confidence = demo[\"confidence\"]\n",
    "\n",
    "# CHANGE THIS to do something different with the result\n",
    "print(\"result: '%s' with %d%% confidence\" % (label, confidence))\n"
   ],
   "outputs": [],
   "metadata": {}
  }
 ],
 "metadata": {
  "orig_nbformat": 4,
  "language_info": {
   "name": "python",
   "version": "3.8.6",
   "mimetype": "text/x-python",
   "codemirror_mode": {
    "name": "ipython",
    "version": 3
   },
   "pygments_lexer": "ipython3",
   "nbconvert_exporter": "python",
   "file_extension": ".py"
  },
  "kernelspec": {
   "name": "python3",
   "display_name": "Python 3.8.6 64-bit"
  },
  "interpreter": {
   "hash": "d9af2e32a5ad6e5c5f98229481d7f4ca3d60c1f6ad52fd9ba4da285d14500705"
  }
 },
 "nbformat": 4,
 "nbformat_minor": 2
}